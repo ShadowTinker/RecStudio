{
 "cells": [
  {
   "cell_type": "code",
   "execution_count": 19,
   "metadata": {},
   "outputs": [
    {
     "name": "stdout",
     "output_type": "stream",
     "text": [
      "The autoreload extension is already loaded. To reload it, use:\n",
      "  %reload_ext autoreload\n"
     ]
    }
   ],
   "source": [
    "%load_ext autoreload\n",
    "%autoreload 2"
   ]
  },
  {
   "cell_type": "code",
   "execution_count": 20,
   "metadata": {},
   "outputs": [],
   "source": [
    "import os, datetime, torch\n",
    "from typing import *\n",
    "from recstudio.utils import *\n",
    "import torch.nn as nn"
   ]
  },
  {
   "cell_type": "code",
   "execution_count": 21,
   "metadata": {},
   "outputs": [],
   "source": [
    "import recstudio.eval as eval\n",
    "model, dataset = 'Test10', 'amazon-beauty'\n",
    "model_class, model_conf = get_model(model)\n",
    "model = model_class(model_conf)\n",
    "dataset_class = model_class._get_dataset_class()\n",
    "\n",
    "data_conf = {}\n",
    "\n",
    "data_conf.update(model_conf['data'])    # update model-specified config\n",
    "datasets = dataset_class(name=dataset, config=data_conf).build(**model_conf['data'])\n",
    "train_data = datasets[0]\n",
    "\n",
    "\n",
    "import logging\n",
    "logger = get_logger('./test.log')\n",
    "logger.setLevel(logging.ERROR)\n",
    "model.logger = logging.getLogger('recstudio')\n",
    "\n",
    "model._init_model(train_data)\n",
    "model._init_parameter()\n",
    "model.run_mode = 'light'\n",
    "model.val_check = True\n",
    "val_metrics = model.config['eval']['val_metrics']\n",
    "model.val_metric = next(iter(val_metrics)) if isinstance(val_metrics, list) else val_metrics\n",
    "cutoff = model.config['eval']['cutoff']\n",
    "cutoffs = cutoff if isinstance(cutoff, list) else [cutoff]\n",
    "if len(eval.get_rank_metrics(model.val_metric)) > 0:\n",
    "    model.val_metric += '@' + str(cutoffs[0])\n",
    "model.callback = model._get_callback(train_data.name)\n",
    "model._accelerate()"
   ]
  },
  {
   "cell_type": "code",
   "execution_count": 22,
   "metadata": {},
   "outputs": [],
   "source": [
    "save_dir = model.config['eval']['save_path']\n",
    "model.save_dir = save_dir\n",
    "ckpt = './saved/Test10/amazon-beauty/2023-05-16-15-36-54-098206.ckpt'\n",
    "model.ckpt_path = './Test10/amazon-beauty/2023-05-16-15-36-54-098206.ckpt'\n",
    "model.load_checkpoint(ckpt)\n",
    "model.trainloaders = model._get_train_loaders(train_data)\n",
    "model.optimizers = model._get_optimizers()"
   ]
  },
  {
   "cell_type": "code",
   "execution_count": 23,
   "metadata": {},
   "outputs": [],
   "source": [
    "model.config['model']['cl_weight'] = 1\n"
   ]
  },
  {
   "cell_type": "code",
   "execution_count": null,
   "metadata": {},
   "outputs": [],
   "source": [
    "for g in model.optimizers[0]['optimizer'].param_groups:\n",
    "    g['lr'] = 0.001"
   ]
  },
  {
   "cell_type": "code",
   "execution_count": 25,
   "metadata": {},
   "outputs": [
    {
     "name": "stdout",
     "output_type": "stream",
     "text": [
      "test\n",
      "tensor(0.0489)\n",
      "tensor(0.1016)\n",
      "test\n",
      "tensor(0.0492)\n",
      "tensor(0.1019)\n",
      "test\n",
      "tensor(0.0487)\n",
      "tensor(0.1015)\n",
      "test\n",
      "tensor(0.0490)\n",
      "tensor(0.1020)\n",
      "test\n",
      "tensor(0.0491)\n",
      "tensor(0.1016)\n",
      "test\n",
      "tensor(0.0493)\n",
      "tensor(0.1020)\n",
      "test\n",
      "tensor(0.0497)\n",
      "tensor(0.1022)\n",
      "test\n",
      "tensor(0.0494)\n",
      "tensor(0.1023)\n",
      "test\n",
      "tensor(0.0481)\n",
      "tensor(0.1010)\n",
      "test\n",
      "tensor(0.0487)\n",
      "tensor(0.1010)\n"
     ]
    }
   ],
   "source": [
    "model.finetune = True\n",
    "model.query_encoder.finetune = True\n",
    "for _ in range(100):\n",
    "    out = model.evaluate(datasets[-1])\n",
    "    print(out['ndcg@20'])\n",
    "    print(out['recall@20'])"
   ]
  }
 ],
 "metadata": {
  "kernelspec": {
   "display_name": "base",
   "language": "python",
   "name": "python3"
  },
  "language_info": {
   "codemirror_mode": {
    "name": "ipython",
    "version": 3
   },
   "file_extension": ".py",
   "mimetype": "text/x-python",
   "name": "python",
   "nbconvert_exporter": "python",
   "pygments_lexer": "ipython3",
   "version": "3.9.16"
  },
  "orig_nbformat": 4
 },
 "nbformat": 4,
 "nbformat_minor": 2
}
