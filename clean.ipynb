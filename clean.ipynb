{
 "cells": [
  {
   "cell_type": "code",
   "execution_count": 1,
   "metadata": {},
   "outputs": [],
   "source": [
    "import os\n",
    "path = './log/Test9'\n",
    "path_read = []    #path_read saves all executable files\n",
    "\n",
    "def check_if_dir(file_path):\n",
    "    temp_list = os.listdir(file_path)    #put file name from file_path in temp_list\n",
    "    for temp_list_each in temp_list:\n",
    "        if os.path.isfile(file_path + '/' + temp_list_each):\n",
    "            temp_path = file_path + '/' + temp_list_each\n",
    "            if os.path.splitext(temp_path)[-1] == '.log':    #自己需要处理的是.log文件所以在此加一个判断\n",
    "                path_read.append(temp_path)\n",
    "            else:\n",
    "                continue\n",
    "        else:\n",
    "            check_if_dir(file_path + '/' + temp_list_each)    #loop traversal\n",
    "\n",
    "check_if_dir(path)"
   ]
  },
  {
   "cell_type": "code",
   "execution_count": 19,
   "metadata": {},
   "outputs": [],
   "source": [
    "import os\n",
    "for path in path_read:\n",
    "    f = open(path)\n",
    "    lines = f.read()\n",
    "    if 'Testing' not in lines:\n",
    "        os.remove(path)"
   ]
  }
 ],
 "metadata": {
  "kernelspec": {
   "display_name": "recstudio",
   "language": "python",
   "name": "python3"
  },
  "language_info": {
   "codemirror_mode": {
    "name": "ipython",
    "version": 3
   },
   "file_extension": ".py",
   "mimetype": "text/x-python",
   "name": "python",
   "nbconvert_exporter": "python",
   "pygments_lexer": "ipython3",
   "version": "3.9.16"
  },
  "orig_nbformat": 4
 },
 "nbformat": 4,
 "nbformat_minor": 2
}
